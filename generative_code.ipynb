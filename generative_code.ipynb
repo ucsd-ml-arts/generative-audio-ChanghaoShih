{
 "cells": [
  {
   "cell_type": "markdown",
   "metadata": {},
   "source": [
    "# Generate MIDI from real neural recording"
   ]
  },
  {
   "cell_type": "code",
   "execution_count": null,
   "metadata": {},
   "outputs": [],
   "source": [
    "import numpy as np\n",
    "import scipy.io\n",
    "import os"
   ]
  },
  {
   "cell_type": "markdown",
   "metadata": {},
   "source": [
    "# Prepare materials"
   ]
  },
  {
   "cell_type": "markdown",
   "metadata": {},
   "source": [
    "loading neural data"
   ]
  },
  {
   "cell_type": "code",
   "execution_count": 3,
   "metadata": {},
   "outputs": [],
   "source": [
    "xplan = scipy.io.loadmat('spike1.mat')\n",
    "xplan = xplan['spike1']"
   ]
  },
  {
   "cell_type": "code",
   "execution_count": 4,
   "metadata": {},
   "outputs": [],
   "source": [
    "baseline = xplan[:, :200]\n",
    "planning = xplan[:, 200:]"
   ]
  },
  {
   "cell_type": "markdown",
   "metadata": {},
   "source": [
    "loading pretrained model"
   ]
  },
  {
   "cell_type": "code",
   "execution_count": 6,
   "metadata": {},
   "outputs": [
    {
     "name": "stdout",
     "output_type": "stream",
     "text": [
      "--2019-05-16 20:50:26--  http://download.magenta.tensorflow.org/models/performance_with_dynamics.mag\n",
      "Resolving web.ucsd.edu (web.ucsd.edu)... 132.239.1.231, 132.239.1.230\n",
      "Connecting to web.ucsd.edu (web.ucsd.edu)|132.239.1.231|:3128... connected.\n",
      "Proxy request sent, awaiting response... 200 OK\n",
      "Length: 25055747 (24M) [binary/octet-stream]\n",
      "Saving to: ‘performance_with_dynamics.mag.1’\n",
      "\n",
      "performance_with_dy 100%[===================>]  23.89M  --.-KB/s    in 0.06s   \n",
      "\n",
      "2019-05-16 20:50:26 (391 MB/s) - ‘performance_with_dynamics.mag.1’ saved [25055747/25055747]\n",
      "\n"
     ]
    }
   ],
   "source": [
    "!wget http://download.magenta.tensorflow.org/models/performance_with_dynamics.mag"
   ]
  },
  {
   "cell_type": "code",
   "execution_count": 7,
   "metadata": {},
   "outputs": [
    {
     "name": "stdout",
     "output_type": "stream",
     "text": [
      "env: BUNDLE_PATH=performance_with_dynamics.mag\n",
      "env: CONFIG=performance_with_dynamics\n"
     ]
    }
   ],
   "source": [
    "%env BUNDLE_PATH=performance_with_dynamics.mag\n",
    "%env CONFIG=performance_with_dynamics"
   ]
  },
  {
   "cell_type": "markdown",
   "metadata": {},
   "source": [
    "# generate midi pieces"
   ]
  },
  {
   "cell_type": "markdown",
   "metadata": {},
   "source": [
    "using baseline neural recording (inactive)"
   ]
  },
  {
   "cell_type": "code",
   "execution_count": 76,
   "metadata": {},
   "outputs": [],
   "source": [
    "bin_size = 10\n",
    "spike_hist = []\n",
    "for b in range(8):\n",
    "    spike_hist.append(np.sum(baseline[:, b*bin_size:(b+1)*bin_size], axis=1))\n",
    "recording = np.array(spike_hist).T"
   ]
  },
  {
   "cell_type": "code",
   "execution_count": 77,
   "metadata": {},
   "outputs": [],
   "source": [
    "# sum\n",
    "primer_melody = np.sum(recording, axis=0)+60"
   ]
  },
  {
   "cell_type": "code",
   "execution_count": 78,
   "metadata": {},
   "outputs": [
    {
     "data": {
      "text/plain": [
       "array([66, 74, 66, 70, 74, 68, 67, 68], dtype=uint64)"
      ]
     },
     "execution_count": 78,
     "metadata": {},
     "output_type": "execute_result"
    }
   ],
   "source": [
    "# showing primer melody\n",
    "primer_melody"
   ]
  },
  {
   "cell_type": "code",
   "execution_count": 79,
   "metadata": {},
   "outputs": [
    {
     "name": "stdout",
     "output_type": "stream",
     "text": [
      "/opt/conda/lib/python3.6/site-packages/h5py/__init__.py:36: FutureWarning: Conversion of the second argument of issubdtype from `float` to `np.floating` is deprecated. In future, it will be treated as `np.float64 == np.dtype(float).type`.\n",
      "  from ._conv import register_converters as _register_converters\n",
      "/opt/conda/lib/python3.6/importlib/_bootstrap.py:219: RuntimeWarning: numpy.dtype size changed, may indicate binary incompatibility. Expected 96, got 88\n",
      "  return f(*args, **kwds)\n",
      "/opt/conda/lib/python3.6/importlib/_bootstrap.py:219: RuntimeWarning: numpy.dtype size changed, may indicate binary incompatibility. Expected 96, got 88\n",
      "  return f(*args, **kwds)\n",
      "/opt/conda/lib/python3.6/importlib/_bootstrap.py:219: RuntimeWarning: numpy.dtype size changed, may indicate binary incompatibility. Expected 96, got 88\n",
      "  return f(*args, **kwds)\n",
      "/opt/conda/lib/python3.6/importlib/_bootstrap.py:219: RuntimeWarning: numpy.dtype size changed, may indicate binary incompatibility. Expected 96, got 88\n",
      "  return f(*args, **kwds)\n",
      "/opt/conda/lib/python3.6/importlib/_bootstrap.py:219: ImportWarning: can't resolve package from __spec__ or __package__, falling back on __name__ and __path__\n",
      "  return f(*args, **kwds)\n",
      "2019-05-16 21:37:53.360235: I tensorflow/core/platform/cpu_feature_guard.cc:141] Your CPU supports instructions that this TensorFlow binary was not compiled to use: AVX2 FMA\n",
      "2019-05-16 21:37:53.814256: I tensorflow/core/common_runtime/gpu/gpu_device.cc:1432] Found device 0 with properties: \n",
      "name: GeForce GTX 1080 Ti major: 6 minor: 1 memoryClockRate(GHz): 1.582\n",
      "pciBusID: 0000:05:00.0\n",
      "totalMemory: 10.92GiB freeMemory: 10.76GiB\n",
      "2019-05-16 21:37:53.814316: I tensorflow/core/common_runtime/gpu/gpu_device.cc:1511] Adding visible gpu devices: 0\n",
      "2019-05-16 21:37:54.360073: I tensorflow/core/common_runtime/gpu/gpu_device.cc:982] Device interconnect StreamExecutor with strength 1 edge matrix:\n",
      "2019-05-16 21:37:54.360124: I tensorflow/core/common_runtime/gpu/gpu_device.cc:988]      0 \n",
      "2019-05-16 21:37:54.360137: I tensorflow/core/common_runtime/gpu/gpu_device.cc:1001] 0:   N \n",
      "2019-05-16 21:37:54.360505: I tensorflow/core/common_runtime/gpu/gpu_device.cc:1115] Created TensorFlow device (/job:localhost/replica:0/task:0/device:GPU:0 with 10407 MB memory) -> physical GPU (device: 0, name: GeForce GTX 1080 Ti, pci bus id: 0000:05:00.0, compute capability: 6.1)\n",
      "WARNING:tensorflow:The saved meta_graph is possibly from an older release:\n",
      "'model_variables' collection should be of type 'byte_list', but instead is of type 'node_list'.\n",
      "INFO:tensorflow:Restoring parameters from /tmp/tmpvx_lmx5l/model.ckpt\n",
      "INFO:tensorflow:Need to generate 2899 more steps for this sequence, will try asking for 1740 RNN steps\n",
      "INFO:tensorflow:Beam search yields sequence with log-likelihood: -1563.791992 \n",
      "INFO:tensorflow:Need to generate 246 more steps for this sequence, will try asking for 148 RNN steps\n",
      "INFO:tensorflow:Beam search yields sequence with log-likelihood: -1677.281616 \n",
      "INFO:tensorflow:Need to generate 31 more steps for this sequence, will try asking for 19 RNN steps\n",
      "INFO:tensorflow:Beam search yields sequence with log-likelihood: -1695.752930 \n",
      "INFO:tensorflow:Need to generate 2899 more steps for this sequence, will try asking for 1740 RNN steps\n",
      "INFO:tensorflow:Beam search yields sequence with log-likelihood: -1353.783325 \n",
      "INFO:tensorflow:Need to generate 2899 more steps for this sequence, will try asking for 1740 RNN steps\n",
      "INFO:tensorflow:Beam search yields sequence with log-likelihood: -1539.151611 \n",
      "INFO:tensorflow:Need to generate 214 more steps for this sequence, will try asking for 129 RNN steps\n",
      "INFO:tensorflow:Beam search yields sequence with log-likelihood: -1642.605957 \n",
      "INFO:tensorflow:Need to generate 2 more steps for this sequence, will try asking for 2 RNN steps\n",
      "INFO:tensorflow:Beam search yields sequence with log-likelihood: -1644.006958 \n",
      "INFO:tensorflow:Need to generate 2 more steps for this sequence, will try asking for 2 RNN steps\n",
      "INFO:tensorflow:Beam search yields sequence with log-likelihood: -1646.517578 \n",
      "INFO:tensorflow:Need to generate 1 more steps for this sequence, will try asking for 1 RNN steps\n",
      "INFO:tensorflow:Beam search yields sequence with log-likelihood: -1646.721313 \n",
      "INFO:tensorflow:Need to generate 1 more steps for this sequence, will try asking for 1 RNN steps\n",
      "INFO:tensorflow:Beam search yields sequence with log-likelihood: -1646.879639 \n",
      "INFO:tensorflow:Need to generate 2899 more steps for this sequence, will try asking for 1740 RNN steps\n",
      "INFO:tensorflow:Beam search yields sequence with log-likelihood: -1437.616821 \n",
      "INFO:tensorflow:Need to generate 2899 more steps for this sequence, will try asking for 1740 RNN steps\n",
      "INFO:tensorflow:Beam search yields sequence with log-likelihood: -1468.645996 \n",
      "INFO:tensorflow:Need to generate 2899 more steps for this sequence, will try asking for 1740 RNN steps\n",
      "INFO:tensorflow:Beam search yields sequence with log-likelihood: -1320.354492 \n",
      "INFO:tensorflow:Need to generate 1193 more steps for this sequence, will try asking for 716 RNN steps\n",
      "INFO:tensorflow:Beam search yields sequence with log-likelihood: -1837.746948 \n",
      "INFO:tensorflow:Need to generate 569 more steps for this sequence, will try asking for 342 RNN steps\n",
      "INFO:tensorflow:Beam search yields sequence with log-likelihood: -2064.891357 \n",
      "INFO:tensorflow:Need to generate 262 more steps for this sequence, will try asking for 158 RNN steps\n",
      "INFO:tensorflow:Beam search yields sequence with log-likelihood: -2195.700928 \n",
      "INFO:tensorflow:Need to generate 93 more steps for this sequence, will try asking for 56 RNN steps\n",
      "INFO:tensorflow:Beam search yields sequence with log-likelihood: -2258.179199 \n",
      "INFO:tensorflow:Need to generate 29 more steps for this sequence, will try asking for 18 RNN steps\n",
      "INFO:tensorflow:Beam search yields sequence with log-likelihood: -2273.231689 \n",
      "INFO:tensorflow:Need to generate 5 more steps for this sequence, will try asking for 3 RNN steps\n",
      "INFO:tensorflow:Beam search yields sequence with log-likelihood: -2278.533447 \n",
      "INFO:tensorflow:Need to generate 4 more steps for this sequence, will try asking for 3 RNN steps\n",
      "INFO:tensorflow:Beam search yields sequence with log-likelihood: -2279.410156 \n",
      "INFO:tensorflow:Need to generate 3 more steps for this sequence, will try asking for 2 RNN steps\n",
      "INFO:tensorflow:Beam search yields sequence with log-likelihood: -2279.732422 \n",
      "INFO:tensorflow:Need to generate 2 more steps for this sequence, will try asking for 2 RNN steps\n",
      "INFO:tensorflow:Beam search yields sequence with log-likelihood: -2281.803955 \n",
      "INFO:tensorflow:Need to generate 1 more steps for this sequence, will try asking for 1 RNN steps\n",
      "INFO:tensorflow:Beam search yields sequence with log-likelihood: -2282.724121 \n",
      "INFO:tensorflow:Need to generate 2899 more steps for this sequence, will try asking for 1740 RNN steps\n",
      "INFO:tensorflow:Beam search yields sequence with log-likelihood: -1379.305908 \n",
      "INFO:tensorflow:Need to generate 2899 more steps for this sequence, will try asking for 1740 RNN steps\n",
      "INFO:tensorflow:Beam search yields sequence with log-likelihood: -1582.641357 \n",
      "INFO:tensorflow:Need to generate 2899 more steps for this sequence, will try asking for 1740 RNN steps\n",
      "INFO:tensorflow:Beam search yields sequence with log-likelihood: -1725.734253 \n",
      "INFO:tensorflow:Need to generate 2899 more steps for this sequence, will try asking for 1740 RNN steps\n",
      "INFO:tensorflow:Beam search yields sequence with log-likelihood: -1318.440796 \n",
      "INFO:tensorflow:Wrote 10 MIDI files to generated/baseline\n"
     ]
    }
   ],
   "source": [
    "!mkdir -p generated/baseline\n",
    "!performance_rnn_generate --config=${CONFIG} --bundle_file=${BUNDLE_PATH} --output_dir=generated/baseline —num_outputs=5 --num_steps=3000 --primer_melody='[66, 74, 66, 70, 74, 68, 67, 68]' --temperature=0.5"
   ]
  },
  {
   "cell_type": "markdown",
   "metadata": {},
   "source": [
    "using planning neural recording (inactive)"
   ]
  },
  {
   "cell_type": "code",
   "execution_count": 80,
   "metadata": {},
   "outputs": [],
   "source": [
    "bin_size = 10\n",
    "spike_hist = []\n",
    "for b in range(8):\n",
    "    spike_hist.append(np.sum(planning[:, 150+b*bin_size:150+(b+1)*bin_size], axis=1))\n",
    "recording = np.array(spike_hist).T"
   ]
  },
  {
   "cell_type": "code",
   "execution_count": 71,
   "metadata": {},
   "outputs": [],
   "source": [
    "# sum\n",
    "primer_melody = np.sum(recording, axis=0)+60"
   ]
  },
  {
   "cell_type": "code",
   "execution_count": 72,
   "metadata": {},
   "outputs": [
    {
     "data": {
      "text/plain": [
       "array([70, 73, 79, 68, 69, 75, 68, 65], dtype=uint64)"
      ]
     },
     "execution_count": 72,
     "metadata": {},
     "output_type": "execute_result"
    }
   ],
   "source": [
    "# showing primer melody\n",
    "primer_melody"
   ]
  },
  {
   "cell_type": "code",
   "execution_count": 81,
   "metadata": {},
   "outputs": [
    {
     "name": "stdout",
     "output_type": "stream",
     "text": [
      "/opt/conda/lib/python3.6/site-packages/h5py/__init__.py:36: FutureWarning: Conversion of the second argument of issubdtype from `float` to `np.floating` is deprecated. In future, it will be treated as `np.float64 == np.dtype(float).type`.\n",
      "  from ._conv import register_converters as _register_converters\n",
      "/opt/conda/lib/python3.6/importlib/_bootstrap.py:219: RuntimeWarning: numpy.dtype size changed, may indicate binary incompatibility. Expected 96, got 88\n",
      "  return f(*args, **kwds)\n",
      "/opt/conda/lib/python3.6/importlib/_bootstrap.py:219: RuntimeWarning: numpy.dtype size changed, may indicate binary incompatibility. Expected 96, got 88\n",
      "  return f(*args, **kwds)\n",
      "/opt/conda/lib/python3.6/importlib/_bootstrap.py:219: RuntimeWarning: numpy.dtype size changed, may indicate binary incompatibility. Expected 96, got 88\n",
      "  return f(*args, **kwds)\n",
      "/opt/conda/lib/python3.6/importlib/_bootstrap.py:219: RuntimeWarning: numpy.dtype size changed, may indicate binary incompatibility. Expected 96, got 88\n",
      "  return f(*args, **kwds)\n",
      "/opt/conda/lib/python3.6/importlib/_bootstrap.py:219: ImportWarning: can't resolve package from __spec__ or __package__, falling back on __name__ and __path__\n",
      "  return f(*args, **kwds)\n",
      "2019-05-16 21:46:53.241809: I tensorflow/core/platform/cpu_feature_guard.cc:141] Your CPU supports instructions that this TensorFlow binary was not compiled to use: AVX2 FMA\n",
      "2019-05-16 21:46:53.716469: I tensorflow/core/common_runtime/gpu/gpu_device.cc:1432] Found device 0 with properties: \n",
      "name: GeForce GTX 1080 Ti major: 6 minor: 1 memoryClockRate(GHz): 1.582\n",
      "pciBusID: 0000:05:00.0\n",
      "totalMemory: 10.92GiB freeMemory: 10.76GiB\n",
      "2019-05-16 21:46:53.716869: I tensorflow/core/common_runtime/gpu/gpu_device.cc:1511] Adding visible gpu devices: 0\n",
      "2019-05-16 21:46:54.298056: I tensorflow/core/common_runtime/gpu/gpu_device.cc:982] Device interconnect StreamExecutor with strength 1 edge matrix:\n",
      "2019-05-16 21:46:54.298107: I tensorflow/core/common_runtime/gpu/gpu_device.cc:988]      0 \n",
      "2019-05-16 21:46:54.298120: I tensorflow/core/common_runtime/gpu/gpu_device.cc:1001] 0:   N \n",
      "2019-05-16 21:46:54.298509: I tensorflow/core/common_runtime/gpu/gpu_device.cc:1115] Created TensorFlow device (/job:localhost/replica:0/task:0/device:GPU:0 with 10407 MB memory) -> physical GPU (device: 0, name: GeForce GTX 1080 Ti, pci bus id: 0000:05:00.0, compute capability: 6.1)\n",
      "WARNING:tensorflow:The saved meta_graph is possibly from an older release:\n",
      "'model_variables' collection should be of type 'byte_list', but instead is of type 'node_list'.\n",
      "INFO:tensorflow:Restoring parameters from /tmp/tmpj2jvj_tr/model.ckpt\n",
      "INFO:tensorflow:Need to generate 2949 more steps for this sequence, will try asking for 1770 RNN steps\n",
      "INFO:tensorflow:Beam search yields sequence with log-likelihood: -555.007019 \n",
      "INFO:tensorflow:Need to generate 2949 more steps for this sequence, will try asking for 1770 RNN steps\n",
      "INFO:tensorflow:Beam search yields sequence with log-likelihood: -361.430023 \n",
      "INFO:tensorflow:Need to generate 2949 more steps for this sequence, will try asking for 1770 RNN steps\n",
      "INFO:tensorflow:Beam search yields sequence with log-likelihood: -1942.516479 \n",
      "INFO:tensorflow:Need to generate 721 more steps for this sequence, will try asking for 433 RNN steps\n",
      "INFO:tensorflow:Beam search yields sequence with log-likelihood: -2217.889893 \n",
      "INFO:tensorflow:Need to generate 124 more steps for this sequence, will try asking for 75 RNN steps\n",
      "INFO:tensorflow:Beam search yields sequence with log-likelihood: -2265.156006 \n",
      "INFO:tensorflow:Need to generate 33 more steps for this sequence, will try asking for 20 RNN steps\n",
      "INFO:tensorflow:Beam search yields sequence with log-likelihood: -2279.655029 \n",
      "INFO:tensorflow:Need to generate 1 more steps for this sequence, will try asking for 1 RNN steps\n",
      "INFO:tensorflow:Beam search yields sequence with log-likelihood: -2279.655518 \n",
      "INFO:tensorflow:Need to generate 1 more steps for this sequence, will try asking for 1 RNN steps\n",
      "INFO:tensorflow:Beam search yields sequence with log-likelihood: -2279.808105 \n",
      "INFO:tensorflow:Need to generate 2949 more steps for this sequence, will try asking for 1770 RNN steps\n",
      "INFO:tensorflow:Beam search yields sequence with log-likelihood: -1545.443115 \n",
      "INFO:tensorflow:Need to generate 812 more steps for this sequence, will try asking for 488 RNN steps\n",
      "INFO:tensorflow:Beam search yields sequence with log-likelihood: -1894.611450 \n",
      "INFO:tensorflow:Need to generate 314 more steps for this sequence, will try asking for 189 RNN steps\n",
      "INFO:tensorflow:Beam search yields sequence with log-likelihood: -2039.110229 \n",
      "INFO:tensorflow:Need to generate 130 more steps for this sequence, will try asking for 78 RNN steps\n",
      "INFO:tensorflow:Beam search yields sequence with log-likelihood: -2112.505615 \n",
      "INFO:tensorflow:Need to generate 47 more steps for this sequence, will try asking for 29 RNN steps\n",
      "INFO:tensorflow:Beam search yields sequence with log-likelihood: -2144.394775 \n",
      "INFO:tensorflow:Need to generate 16 more steps for this sequence, will try asking for 10 RNN steps\n",
      "INFO:tensorflow:Beam search yields sequence with log-likelihood: -2150.337646 \n",
      "INFO:tensorflow:Need to generate 6 more steps for this sequence, will try asking for 4 RNN steps\n",
      "INFO:tensorflow:Beam search yields sequence with log-likelihood: -2153.764648 \n",
      "INFO:tensorflow:Need to generate 1 more steps for this sequence, will try asking for 1 RNN steps\n",
      "INFO:tensorflow:Beam search yields sequence with log-likelihood: -2153.764893 \n",
      "INFO:tensorflow:Need to generate 1 more steps for this sequence, will try asking for 1 RNN steps\n",
      "INFO:tensorflow:Beam search yields sequence with log-likelihood: -2155.118896 \n",
      "INFO:tensorflow:Need to generate 2949 more steps for this sequence, will try asking for 1770 RNN steps\n",
      "INFO:tensorflow:Beam search yields sequence with log-likelihood: -1483.207153 \n",
      "INFO:tensorflow:Need to generate 2949 more steps for this sequence, will try asking for 1770 RNN steps\n",
      "INFO:tensorflow:Beam search yields sequence with log-likelihood: -442.687378 \n",
      "INFO:tensorflow:Need to generate 2949 more steps for this sequence, will try asking for 1770 RNN steps\n",
      "INFO:tensorflow:Beam search yields sequence with log-likelihood: -558.393555 \n",
      "INFO:tensorflow:Need to generate 2949 more steps for this sequence, will try asking for 1770 RNN steps\n",
      "INFO:tensorflow:Beam search yields sequence with log-likelihood: -1201.337769 \n",
      "INFO:tensorflow:Need to generate 2949 more steps for this sequence, will try asking for 1770 RNN steps\n",
      "INFO:tensorflow:Beam search yields sequence with log-likelihood: -475.932220 \n",
      "INFO:tensorflow:Need to generate 2949 more steps for this sequence, will try asking for 1770 RNN steps\n",
      "INFO:tensorflow:Beam search yields sequence with log-likelihood: -1742.629761 \n",
      "INFO:tensorflow:Need to generate 1116 more steps for this sequence, will try asking for 670 RNN steps\n",
      "INFO:tensorflow:Beam search yields sequence with log-likelihood: -2301.155029 \n",
      "INFO:tensorflow:Need to generate 372 more steps for this sequence, will try asking for 224 RNN steps\n",
      "INFO:tensorflow:Beam search yields sequence with log-likelihood: -2458.614014 \n",
      "INFO:tensorflow:Need to generate 158 more steps for this sequence, will try asking for 95 RNN steps\n",
      "INFO:tensorflow:Beam search yields sequence with log-likelihood: -2522.854736 \n",
      "INFO:tensorflow:Need to generate 67 more steps for this sequence, will try asking for 41 RNN steps\n",
      "INFO:tensorflow:Beam search yields sequence with log-likelihood: -2545.579834 \n",
      "INFO:tensorflow:Need to generate 27 more steps for this sequence, will try asking for 17 RNN steps\n",
      "INFO:tensorflow:Beam search yields sequence with log-likelihood: -2569.331543 \n",
      "INFO:tensorflow:Need to generate 11 more steps for this sequence, will try asking for 7 RNN steps\n",
      "INFO:tensorflow:Beam search yields sequence with log-likelihood: -2577.412109 \n",
      "INFO:tensorflow:Need to generate 2 more steps for this sequence, will try asking for 2 RNN steps\n",
      "INFO:tensorflow:Beam search yields sequence with log-likelihood: -2578.912354 \n",
      "INFO:tensorflow:Need to generate 2 more steps for this sequence, will try asking for 2 RNN steps\n",
      "INFO:tensorflow:Beam search yields sequence with log-likelihood: -2580.465820 \n",
      "INFO:tensorflow:Need to generate 1 more steps for this sequence, will try asking for 1 RNN steps\n"
     ]
    },
    {
     "name": "stdout",
     "output_type": "stream",
     "text": [
      "INFO:tensorflow:Beam search yields sequence with log-likelihood: -2580.956055 \n",
      "INFO:tensorflow:Wrote 10 MIDI files to generated/planning\n"
     ]
    }
   ],
   "source": [
    "!mkdir -p generated/planning\n",
    "!performance_rnn_generate --config=${CONFIG} --bundle_file=${BUNDLE_PATH} --output_dir=generated/planning —num_outputs=5 --num_steps=3000 --primer_pitches='[70, 73, 79, 68, 69, 75, 68, 65]' --temperature=0.5"
   ]
  }
 ],
 "metadata": {
  "kernelspec": {
   "display_name": "Python 3",
   "language": "python",
   "name": "python3"
  },
  "language_info": {
   "codemirror_mode": {
    "name": "ipython",
    "version": 3
   },
   "file_extension": ".py",
   "mimetype": "text/x-python",
   "name": "python",
   "nbconvert_exporter": "python",
   "pygments_lexer": "ipython3",
   "version": "3.6.8"
  }
 },
 "nbformat": 4,
 "nbformat_minor": 2
}
